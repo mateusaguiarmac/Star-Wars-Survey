{
 "cells": [
  {
   "cell_type": "code",
   "execution_count": 1,
   "metadata": {},
   "outputs": [],
   "source": [
    "import pandas as pd\n",
    "star_wars = pd.read_csv(\"star_wars.csv\", encoding=\"ISO-8859-1\")"
   ]
  },
  {
   "cell_type": "code",
   "execution_count": 2,
   "metadata": {},
   "outputs": [
    {
     "name": "stdout",
     "output_type": "stream",
     "text": [
      "   RespondentID Have you seen any of the 6 films in the Star Wars franchise?  \\\n",
      "0    3292879998                                                Yes             \n",
      "1    3292879538                                                 No             \n",
      "2    3292765271                                                Yes             \n",
      "3    3292763116                                                Yes             \n",
      "4    3292731220                                                Yes             \n",
      "5    3292719380                                                Yes             \n",
      "6    3292684787                                                Yes             \n",
      "7    3292663732                                                Yes             \n",
      "8    3292654043                                                Yes             \n",
      "9    3292640424                                                Yes             \n",
      "\n",
      "  Do you consider yourself to be a fan of the Star Wars film franchise?  \\\n",
      "0                                                Yes                      \n",
      "1                                                NaN                      \n",
      "2                                                 No                      \n",
      "3                                                Yes                      \n",
      "4                                                Yes                      \n",
      "5                                                Yes                      \n",
      "6                                                Yes                      \n",
      "7                                                Yes                      \n",
      "8                                                Yes                      \n",
      "9                                                 No                      \n",
      "\n",
      "  Which of the following Star Wars films have you seen? Please select all that apply.  \\\n",
      "0           Star Wars: Episode I  The Phantom Menace                                    \n",
      "1                                                NaN                                    \n",
      "2           Star Wars: Episode I  The Phantom Menace                                    \n",
      "3           Star Wars: Episode I  The Phantom Menace                                    \n",
      "4           Star Wars: Episode I  The Phantom Menace                                    \n",
      "5           Star Wars: Episode I  The Phantom Menace                                    \n",
      "6           Star Wars: Episode I  The Phantom Menace                                    \n",
      "7           Star Wars: Episode I  The Phantom Menace                                    \n",
      "8           Star Wars: Episode I  The Phantom Menace                                    \n",
      "9                                                NaN                                    \n",
      "\n",
      "                                    Unnamed: 4  \\\n",
      "0  Star Wars: Episode II  Attack of the Clones   \n",
      "1                                          NaN   \n",
      "2  Star Wars: Episode II  Attack of the Clones   \n",
      "3  Star Wars: Episode II  Attack of the Clones   \n",
      "4  Star Wars: Episode II  Attack of the Clones   \n",
      "5  Star Wars: Episode II  Attack of the Clones   \n",
      "6  Star Wars: Episode II  Attack of the Clones   \n",
      "7  Star Wars: Episode II  Attack of the Clones   \n",
      "8  Star Wars: Episode II  Attack of the Clones   \n",
      "9  Star Wars: Episode II  Attack of the Clones   \n",
      "\n",
      "                                    Unnamed: 5  \\\n",
      "0  Star Wars: Episode III  Revenge of the Sith   \n",
      "1                                          NaN   \n",
      "2  Star Wars: Episode III  Revenge of the Sith   \n",
      "3  Star Wars: Episode III  Revenge of the Sith   \n",
      "4  Star Wars: Episode III  Revenge of the Sith   \n",
      "5  Star Wars: Episode III  Revenge of the Sith   \n",
      "6  Star Wars: Episode III  Revenge of the Sith   \n",
      "7  Star Wars: Episode III  Revenge of the Sith   \n",
      "8  Star Wars: Episode III  Revenge of the Sith   \n",
      "9                                          NaN   \n",
      "\n",
      "                          Unnamed: 6  \\\n",
      "0  Star Wars: Episode IV  A New Hope   \n",
      "1                                NaN   \n",
      "2                                NaN   \n",
      "3  Star Wars: Episode IV  A New Hope   \n",
      "4  Star Wars: Episode IV  A New Hope   \n",
      "5  Star Wars: Episode IV  A New Hope   \n",
      "6  Star Wars: Episode IV  A New Hope   \n",
      "7  Star Wars: Episode IV  A New Hope   \n",
      "8  Star Wars: Episode IV  A New Hope   \n",
      "9                                NaN   \n",
      "\n",
      "                                     Unnamed: 7  \\\n",
      "0  Star Wars: Episode V The Empire Strikes Back   \n",
      "1                                           NaN   \n",
      "2                                           NaN   \n",
      "3  Star Wars: Episode V The Empire Strikes Back   \n",
      "4  Star Wars: Episode V The Empire Strikes Back   \n",
      "5  Star Wars: Episode V The Empire Strikes Back   \n",
      "6  Star Wars: Episode V The Empire Strikes Back   \n",
      "7  Star Wars: Episode V The Empire Strikes Back   \n",
      "8  Star Wars: Episode V The Empire Strikes Back   \n",
      "9                                           NaN   \n",
      "\n",
      "                                 Unnamed: 8  \\\n",
      "0  Star Wars: Episode VI Return of the Jedi   \n",
      "1                                       NaN   \n",
      "2                                       NaN   \n",
      "3  Star Wars: Episode VI Return of the Jedi   \n",
      "4  Star Wars: Episode VI Return of the Jedi   \n",
      "5  Star Wars: Episode VI Return of the Jedi   \n",
      "6  Star Wars: Episode VI Return of the Jedi   \n",
      "7  Star Wars: Episode VI Return of the Jedi   \n",
      "8  Star Wars: Episode VI Return of the Jedi   \n",
      "9                                       NaN   \n",
      "\n",
      "   Please rank the Star Wars films in order of preference with 1 being your favorite film in the franchise and 6 being your least favorite film.  \\\n",
      "0                                                3.0                                                                                               \n",
      "1                                                NaN                                                                                               \n",
      "2                                                1.0                                                                                               \n",
      "3                                                5.0                                                                                               \n",
      "4                                                5.0                                                                                               \n",
      "5                                                1.0                                                                                               \n",
      "6                                                6.0                                                                                               \n",
      "7                                                4.0                                                                                               \n",
      "8                                                5.0                                                                                               \n",
      "9                                                1.0                                                                                               \n",
      "\n",
      "   ...         Unnamed: 28       Which character shot first?  \\\n",
      "0  ...      Very favorably  I don't understand this question   \n",
      "1  ...                 NaN                               NaN   \n",
      "2  ...    Unfamiliar (N/A)  I don't understand this question   \n",
      "3  ...      Very favorably  I don't understand this question   \n",
      "4  ...  Somewhat favorably                            Greedo   \n",
      "5  ...      Very favorably                               Han   \n",
      "6  ...      Very favorably                               Han   \n",
      "7  ...      Very favorably                               Han   \n",
      "8  ...  Somewhat favorably                               Han   \n",
      "9  ...      Very favorably  I don't understand this question   \n",
      "\n",
      "   Are you familiar with the Expanded Universe?  \\\n",
      "0                                           Yes   \n",
      "1                                           NaN   \n",
      "2                                            No   \n",
      "3                                            No   \n",
      "4                                           Yes   \n",
      "5                                           Yes   \n",
      "6                                           Yes   \n",
      "7                                            No   \n",
      "8                                            No   \n",
      "9                                            No   \n",
      "\n",
      "   Do you consider yourself to be a fan of the Expanded Universe?  \\\n",
      "0                                                 No                \n",
      "1                                                NaN                \n",
      "2                                                NaN                \n",
      "3                                                NaN                \n",
      "4                                                 No                \n",
      "5                                                 No                \n",
      "6                                                 No                \n",
      "7                                                NaN                \n",
      "8                                                NaN                \n",
      "9                                                NaN                \n",
      "\n",
      "   Do you consider yourself to be a fan of the Star Trek franchise? Gender  \\\n",
      "0                                                 No                  Male   \n",
      "1                                                Yes                  Male   \n",
      "2                                                 No                  Male   \n",
      "3                                                Yes                  Male   \n",
      "4                                                 No                  Male   \n",
      "5                                                Yes                  Male   \n",
      "6                                                 No                  Male   \n",
      "7                                                Yes                  Male   \n",
      "8                                                 No                  Male   \n",
      "9                                                 No                  Male   \n",
      "\n",
      "     Age     Household Income                         Education  \\\n",
      "0  18-29                  NaN                High school degree   \n",
      "1  18-29         $0 - $24,999                   Bachelor degree   \n",
      "2  18-29         $0 - $24,999                High school degree   \n",
      "3  18-29  $100,000 - $149,999  Some college or Associate degree   \n",
      "4  18-29  $100,000 - $149,999  Some college or Associate degree   \n",
      "5  18-29    $25,000 - $49,999                   Bachelor degree   \n",
      "6  18-29                  NaN                High school degree   \n",
      "7  18-29                  NaN                High school degree   \n",
      "8  18-29         $0 - $24,999  Some college or Associate degree   \n",
      "9  18-29    $25,000 - $49,999  Some college or Associate degree   \n",
      "\n",
      "  Location (Census Region)  \n",
      "0           South Atlantic  \n",
      "1       West South Central  \n",
      "2       West North Central  \n",
      "3       West North Central  \n",
      "4       West North Central  \n",
      "5          Middle Atlantic  \n",
      "6       East North Central  \n",
      "7           South Atlantic  \n",
      "8           South Atlantic  \n",
      "9                  Pacific  \n",
      "\n",
      "[10 rows x 38 columns]\n"
     ]
    }
   ],
   "source": [
    "print(star_wars.head(10))"
   ]
  },
  {
   "cell_type": "code",
   "execution_count": 3,
   "metadata": {},
   "outputs": [
    {
     "name": "stdout",
     "output_type": "stream",
     "text": [
      "Index(['RespondentID',\n",
      "       'Have you seen any of the 6 films in the Star Wars franchise?',\n",
      "       'Do you consider yourself to be a fan of the Star Wars film franchise?',\n",
      "       'Which of the following Star Wars films have you seen? Please select all that apply.',\n",
      "       'Unnamed: 4', 'Unnamed: 5', 'Unnamed: 6', 'Unnamed: 7', 'Unnamed: 8',\n",
      "       'Please rank the Star Wars films in order of preference with 1 being your favorite film in the franchise and 6 being your least favorite film.',\n",
      "       'Unnamed: 10', 'Unnamed: 11', 'Unnamed: 12', 'Unnamed: 13',\n",
      "       'Unnamed: 14',\n",
      "       'Please state whether you view the following characters favorably, unfavorably, or are unfamiliar with him/her.',\n",
      "       'Unnamed: 16', 'Unnamed: 17', 'Unnamed: 18', 'Unnamed: 19',\n",
      "       'Unnamed: 20', 'Unnamed: 21', 'Unnamed: 22', 'Unnamed: 23',\n",
      "       'Unnamed: 24', 'Unnamed: 25', 'Unnamed: 26', 'Unnamed: 27',\n",
      "       'Unnamed: 28', 'Which character shot first?',\n",
      "       'Are you familiar with the Expanded Universe?',\n",
      "       'Do you consider yourself to be a fan of the Expanded Universe?',\n",
      "       'Do you consider yourself to be a fan of the Star Trek franchise?',\n",
      "       'Gender', 'Age', 'Household Income', 'Education',\n",
      "       'Location (Census Region)'],\n",
      "      dtype='object')\n"
     ]
    }
   ],
   "source": [
    "print(star_wars.columns)"
   ]
  },
  {
   "cell_type": "code",
   "execution_count": 4,
   "metadata": {},
   "outputs": [],
   "source": [
    "yes_no = {\"Yes\": True, \"No\": False}\n",
    "\n",
    "star_wars['Have you seen any of the 6 films in the Star Wars franchise?'] = star_wars['Have you seen any of the 6 films in the Star Wars franchise?'].map(yes_no)"
   ]
  },
  {
   "cell_type": "code",
   "execution_count": 5,
   "metadata": {},
   "outputs": [],
   "source": [
    "star_wars['Do you consider yourself to be a fan of the Star Wars film franchise?'] = star_wars['Do you consider yourself to be a fan of the Star Wars film franchise?'].map(yes_no)"
   ]
  },
  {
   "cell_type": "code",
   "execution_count": 6,
   "metadata": {},
   "outputs": [
    {
     "name": "stdout",
     "output_type": "stream",
     "text": [
      "0     True\n",
      "1    False\n",
      "2     True\n",
      "3     True\n",
      "4     True\n",
      "5     True\n",
      "6     True\n",
      "7     True\n",
      "8     True\n",
      "9     True\n",
      "Name: Have you seen any of the 6 films in the Star Wars franchise?, dtype: bool\n"
     ]
    }
   ],
   "source": [
    "print(star_wars['Have you seen any of the 6 films in the Star Wars franchise?'].head(10))"
   ]
  },
  {
   "cell_type": "code",
   "execution_count": 7,
   "metadata": {},
   "outputs": [
    {
     "name": "stdout",
     "output_type": "stream",
     "text": [
      "0     True\n",
      "1      NaN\n",
      "2    False\n",
      "3     True\n",
      "4     True\n",
      "5     True\n",
      "6     True\n",
      "7     True\n",
      "8     True\n",
      "9    False\n",
      "Name: Do you consider yourself to be a fan of the Star Wars film franchise?, dtype: object\n"
     ]
    }
   ],
   "source": [
    "print(star_wars['Do you consider yourself to be a fan of the Star Wars film franchise?'].head(10))"
   ]
  },
  {
   "cell_type": "code",
   "execution_count": 8,
   "metadata": {},
   "outputs": [],
   "source": [
    "import numpy as np\n",
    "\n",
    "new_col_names = {'Which of the following Star Wars films have you seen? Please select all that apply.': 'seen_1', 'Unnamed: 4': 'seen_2', 'Unnamed: 5': 'seen_3', 'Unnamed: 6': 'seen_4', 'Unnamed: 7': 'seen_5', 'Unnamed: 8': 'seen_6'}\n",
    "\n",
    "star_wars = star_wars.rename(columns=new_col_names)\n",
    "\n",
    "# movies_names = {\"Star Wars: Episode I  The Phantom Menace\": True, np.NaN: False, \"Star Wars: Episode II  Attack of the Clones\": True, 'Star Wars: Episode III  Revenge of the Sith': True, 'Star Wars: Episode III  Revenge of the Sith': True, 'Star Wars: Episode IV  A New Hope': True, 'Star Wars: Episode V The Empire Strikes Back': True, 'Star Wars: Episode VI Return of the Jedi': True}\n",
    "    \n",
    "# star_wars.columns[3:9] = star_wars.columns[3:9].map(movies_names)    "
   ]
  },
  {
   "cell_type": "code",
   "execution_count": 9,
   "metadata": {},
   "outputs": [
    {
     "name": "stdout",
     "output_type": "stream",
     "text": [
      "Index(['RespondentID',\n",
      "       'Have you seen any of the 6 films in the Star Wars franchise?',\n",
      "       'Do you consider yourself to be a fan of the Star Wars film franchise?',\n",
      "       'seen_1', 'seen_2', 'seen_3', 'seen_4', 'seen_5', 'seen_6',\n",
      "       'Please rank the Star Wars films in order of preference with 1 being your favorite film in the franchise and 6 being your least favorite film.',\n",
      "       'Unnamed: 10', 'Unnamed: 11', 'Unnamed: 12', 'Unnamed: 13',\n",
      "       'Unnamed: 14',\n",
      "       'Please state whether you view the following characters favorably, unfavorably, or are unfamiliar with him/her.',\n",
      "       'Unnamed: 16', 'Unnamed: 17', 'Unnamed: 18', 'Unnamed: 19',\n",
      "       'Unnamed: 20', 'Unnamed: 21', 'Unnamed: 22', 'Unnamed: 23',\n",
      "       'Unnamed: 24', 'Unnamed: 25', 'Unnamed: 26', 'Unnamed: 27',\n",
      "       'Unnamed: 28', 'Which character shot first?',\n",
      "       'Are you familiar with the Expanded Universe?',\n",
      "       'Do you consider yourself to be a fan of the Expanded Universe?',\n",
      "       'Do you consider yourself to be a fan of the Star Trek franchise?',\n",
      "       'Gender', 'Age', 'Household Income', 'Education',\n",
      "       'Location (Census Region)'],\n",
      "      dtype='object')\n"
     ]
    }
   ],
   "source": [
    "print(star_wars.columns)"
   ]
  },
  {
   "cell_type": "code",
   "execution_count": 10,
   "metadata": {},
   "outputs": [
    {
     "name": "stdout",
     "output_type": "stream",
     "text": [
      "0    Star Wars: Episode I  The Phantom Menace\n",
      "1                                         NaN\n",
      "2    Star Wars: Episode I  The Phantom Menace\n",
      "3    Star Wars: Episode I  The Phantom Menace\n",
      "4    Star Wars: Episode I  The Phantom Menace\n",
      "5    Star Wars: Episode I  The Phantom Menace\n",
      "6    Star Wars: Episode I  The Phantom Menace\n",
      "7    Star Wars: Episode I  The Phantom Menace\n",
      "8    Star Wars: Episode I  The Phantom Menace\n",
      "9                                         NaN\n",
      "Name: seen_1, dtype: object\n"
     ]
    }
   ],
   "source": [
    "print(star_wars['seen_1'].head(10))"
   ]
  },
  {
   "cell_type": "code",
   "execution_count": 11,
   "metadata": {},
   "outputs": [],
   "source": [
    "movies_names = {\"Star Wars: Episode I  The Phantom Menace\": True, np.NaN: False, \"Star Wars: Episode II  Attack of the Clones\": True, 'Star Wars: Episode III  Revenge of the Sith': True, 'Star Wars: Episode III  Revenge of the Sith': True, 'Star Wars: Episode IV  A New Hope': True, 'Star Wars: Episode V The Empire Strikes Back': True, 'Star Wars: Episode VI Return of the Jedi': True}\n",
    "    \n",
    "star_wars['seen_1'] = star_wars['seen_1'].map(movies_names)  \n",
    "\n",
    "star_wars['seen_2'] = star_wars['seen_2'].map(movies_names)\n",
    "\n",
    "star_wars['seen_3'] = star_wars['seen_3'].map(movies_names) \n",
    "\n",
    "star_wars['seen_4'] = star_wars['seen_4'].map(movies_names)\n",
    "\n",
    "star_wars['seen_5'] = star_wars['seen_5'].map(movies_names)\n",
    "\n",
    "star_wars['seen_6'] = star_wars['seen_6'].map(movies_names) "
   ]
  },
  {
   "cell_type": "code",
   "execution_count": 12,
   "metadata": {},
   "outputs": [
    {
     "name": "stdout",
     "output_type": "stream",
     "text": [
      "   RespondentID  Have you seen any of the 6 films in the Star Wars franchise?  \\\n",
      "3    3292763116                                               True              \n",
      "4    3292731220                                               True              \n",
      "5    3292719380                                               True              \n",
      "6    3292684787                                               True              \n",
      "7    3292663732                                               True              \n",
      "8    3292654043                                               True              \n",
      "\n",
      "  Do you consider yourself to be a fan of the Star Wars film franchise?  \\\n",
      "3                                               True                      \n",
      "4                                               True                      \n",
      "5                                               True                      \n",
      "6                                               True                      \n",
      "7                                               True                      \n",
      "8                                               True                      \n",
      "\n",
      "   seen_1  seen_2  seen_3  seen_4  seen_5  seen_6  \\\n",
      "3    True    True    True    True    True    True   \n",
      "4    True    True    True    True    True    True   \n",
      "5    True    True    True    True    True    True   \n",
      "6    True    True    True    True    True    True   \n",
      "7    True    True    True    True    True    True   \n",
      "8    True    True    True    True    True    True   \n",
      "\n",
      "   Please rank the Star Wars films in order of preference with 1 being your favorite film in the franchise and 6 being your least favorite film.  \\\n",
      "3                                                5.0                                                                                               \n",
      "4                                                5.0                                                                                               \n",
      "5                                                1.0                                                                                               \n",
      "6                                                6.0                                                                                               \n",
      "7                                                4.0                                                                                               \n",
      "8                                                5.0                                                                                               \n",
      "\n",
      "   ...         Unnamed: 28       Which character shot first?  \\\n",
      "3  ...      Very favorably  I don't understand this question   \n",
      "4  ...  Somewhat favorably                            Greedo   \n",
      "5  ...      Very favorably                               Han   \n",
      "6  ...      Very favorably                               Han   \n",
      "7  ...      Very favorably                               Han   \n",
      "8  ...  Somewhat favorably                               Han   \n",
      "\n",
      "   Are you familiar with the Expanded Universe?  \\\n",
      "3                                            No   \n",
      "4                                           Yes   \n",
      "5                                           Yes   \n",
      "6                                           Yes   \n",
      "7                                            No   \n",
      "8                                            No   \n",
      "\n",
      "   Do you consider yourself to be a fan of the Expanded Universe?  \\\n",
      "3                                                NaN                \n",
      "4                                                 No                \n",
      "5                                                 No                \n",
      "6                                                 No                \n",
      "7                                                NaN                \n",
      "8                                                NaN                \n",
      "\n",
      "   Do you consider yourself to be a fan of the Star Trek franchise? Gender  \\\n",
      "3                                                Yes                  Male   \n",
      "4                                                 No                  Male   \n",
      "5                                                Yes                  Male   \n",
      "6                                                 No                  Male   \n",
      "7                                                Yes                  Male   \n",
      "8                                                 No                  Male   \n",
      "\n",
      "     Age     Household Income                         Education  \\\n",
      "3  18-29  $100,000 - $149,999  Some college or Associate degree   \n",
      "4  18-29  $100,000 - $149,999  Some college or Associate degree   \n",
      "5  18-29    $25,000 - $49,999                   Bachelor degree   \n",
      "6  18-29                  NaN                High school degree   \n",
      "7  18-29                  NaN                High school degree   \n",
      "8  18-29         $0 - $24,999  Some college or Associate degree   \n",
      "\n",
      "  Location (Census Region)  \n",
      "3       West North Central  \n",
      "4       West North Central  \n",
      "5          Middle Atlantic  \n",
      "6       East North Central  \n",
      "7           South Atlantic  \n",
      "8           South Atlantic  \n",
      "\n",
      "[6 rows x 38 columns]\n"
     ]
    }
   ],
   "source": [
    "print(star_wars[3:9])"
   ]
  },
  {
   "cell_type": "code",
   "execution_count": 13,
   "metadata": {},
   "outputs": [],
   "source": [
    "star_wars[star_wars.columns[9:15]] = star_wars[star_wars.columns[9:15]].astype(float)"
   ]
  },
  {
   "cell_type": "code",
   "execution_count": 14,
   "metadata": {},
   "outputs": [],
   "source": [
    "new_col_names_two = {'Please rank the Star Wars films in order of preference with 1 being your favorite film in the franchise and 6 being your least favorite film.': 'ranking_1', 'Unnamed: 10': 'ranking_2', 'Unnamed: 11': 'ranking_3', 'Unnamed: 12': 'ranking_4', 'Unnamed: 13': 'ranking_5', 'Unnamed: 14': 'ranking_6'}\n",
    "\n",
    "star_wars = star_wars.rename(columns=new_col_names_two)"
   ]
  },
  {
   "cell_type": "code",
   "execution_count": 15,
   "metadata": {},
   "outputs": [
    {
     "name": "stdout",
     "output_type": "stream",
     "text": [
      "Index(['RespondentID',\n",
      "       'Have you seen any of the 6 films in the Star Wars franchise?',\n",
      "       'Do you consider yourself to be a fan of the Star Wars film franchise?',\n",
      "       'seen_1', 'seen_2', 'seen_3', 'seen_4', 'seen_5', 'seen_6', 'ranking_1',\n",
      "       'ranking_2', 'ranking_3', 'ranking_4', 'ranking_5', 'ranking_6',\n",
      "       'Please state whether you view the following characters favorably, unfavorably, or are unfamiliar with him/her.',\n",
      "       'Unnamed: 16', 'Unnamed: 17', 'Unnamed: 18', 'Unnamed: 19',\n",
      "       'Unnamed: 20', 'Unnamed: 21', 'Unnamed: 22', 'Unnamed: 23',\n",
      "       'Unnamed: 24', 'Unnamed: 25', 'Unnamed: 26', 'Unnamed: 27',\n",
      "       'Unnamed: 28', 'Which character shot first?',\n",
      "       'Are you familiar with the Expanded Universe?',\n",
      "       'Do you consider yourself to be a fan of the Expanded Universe?',\n",
      "       'Do you consider yourself to be a fan of the Star Trek franchise?',\n",
      "       'Gender', 'Age', 'Household Income', 'Education',\n",
      "       'Location (Census Region)'],\n",
      "      dtype='object')\n"
     ]
    }
   ],
   "source": [
    "print(star_wars.columns)"
   ]
  },
  {
   "cell_type": "code",
   "execution_count": 16,
   "metadata": {},
   "outputs": [],
   "source": [
    "ranking = ['ranking_1', 'ranking_2', 'ranking_3', 'ranking_4', 'ranking_5', 'ranking_6']\n",
    "means = star_wars[ranking].mean()"
   ]
  },
  {
   "cell_type": "code",
   "execution_count": 17,
   "metadata": {},
   "outputs": [
    {
     "name": "stdout",
     "output_type": "stream",
     "text": [
      "ranking_1    3.732934\n",
      "ranking_2    4.087321\n",
      "ranking_3    4.341317\n",
      "ranking_4    3.272727\n",
      "ranking_5    2.513158\n",
      "ranking_6    3.047847\n",
      "dtype: float64\n"
     ]
    }
   ],
   "source": [
    "print(means)"
   ]
  },
  {
   "cell_type": "code",
   "execution_count": 27,
   "metadata": {},
   "outputs": [
    {
     "data": {
      "image/png": "[encoded data removed]",
      "text/plain": [
       "<Figure size 600x400 with 1 Axes>"
      ]
     },
     "metadata": {},
     "output_type": "display_data"
    }
   ],
   "source": [
    "%matplotlib inline\n",
    "import matplotlib.pyplot as plot\n",
    "\n",
    "my_plot = means.plot(kind= \"bar\")"
   ]
  },
  {
   "cell_type": "markdown",
   "metadata": {},
   "source": [
    "The data shows that the third Star Wars movie is the worst rated by people that answered the survey. However, the fifth movie is the best rated one."
   ]
  },
  {
   "cell_type": "code",
   "execution_count": 19,
   "metadata": {},
   "outputs": [],
   "source": [
    "seen = ['seen_1', 'seen_2', 'seen_3', 'seen_4', 'seen_5', 'seen_6']\n",
    "\n",
    "sum_seen_columns = star_wars[seen].sum()"
   ]
  },
  {
   "cell_type": "code",
   "execution_count": 20,
   "metadata": {},
   "outputs": [
    {
     "name": "stdout",
     "output_type": "stream",
     "text": [
      "seen_1    673\n",
      "seen_2    571\n",
      "seen_3    550\n",
      "seen_4    607\n",
      "seen_5    758\n",
      "seen_6    738\n",
      "dtype: int64\n"
     ]
    }
   ],
   "source": [
    "print(sum_seen_columns)"
   ]
  },
  {
   "cell_type": "code",
   "execution_count": 28,
   "metadata": {},
   "outputs": [
    {
     "data": {
      "text/plain": [
       "<matplotlib.axes._subplots.AxesSubplot at 0x7fad69dea6a0>"
      ]
     },
     "execution_count": 28,
     "metadata": {},
     "output_type": "execute_result"
    },
    {
     "data": {
      "image/png": "[encoded data removed]",
      "text/plain": [
       "<Figure size 600x400 with 1 Axes>"
      ]
     },
     "metadata": {},
     "output_type": "display_data"
    }
   ],
   "source": [
    "%matplotlib inline\n",
    "\n",
    "sum_seen_columns.plot(kind='bar')"
   ]
  },
  {
   "cell_type": "markdown",
   "metadata": {},
   "source": [
    "The fifth movie is the best rated one and it is also the most watched one. Beyond that, the worst rated movie, the third one, is also the less watched."
   ]
  },
  {
   "cell_type": "code",
   "execution_count": 29,
   "metadata": {},
   "outputs": [],
   "source": [
    "males = star_wars[star_wars[\"Gender\"] == \"Male\"]\n",
    "females = star_wars[star_wars[\"Gender\"] == \"Female\"]"
   ]
  },
  {
   "cell_type": "code",
   "execution_count": 30,
   "metadata": {},
   "outputs": [
    {
     "data": {
      "image/png": "[encoded data removed]",
      "text/plain": [
       "<Figure size 600x400 with 1 Axes>"
      ]
     },
     "metadata": {},
     "output_type": "display_data"
    }
   ],
   "source": [
    "means_males = males[ranking].mean()\n",
    "\n",
    "%matplotlib inline\n",
    "\n",
    "my_plot = means_males.plot(kind= \"bar\")"
   ]
  },
  {
   "cell_type": "code",
   "execution_count": 31,
   "metadata": {},
   "outputs": [
    {
     "data": {
      "image/png": "[encoded data removed]",
      "text/plain": [
       "<Figure size 600x400 with 1 Axes>"
      ]
     },
     "metadata": {},
     "output_type": "display_data"
    }
   ],
   "source": [
    "means_females = females[ranking].mean()\n",
    "\n",
    "%matplotlib inline\n",
    "\n",
    "my_plot = means_females.plot(kind= \"bar\")"
   ]
  },
  {
   "cell_type": "markdown",
   "metadata": {},
   "source": [
    "We can see that females liked the first movie better than males. Beyond that, males liked the fourth movie better than females. The other ratings are similar."
   ]
  },
  {
   "cell_type": "code",
   "execution_count": 33,
   "metadata": {},
   "outputs": [
    {
     "data": {
      "text/plain": [
       "<matplotlib.axes._subplots.AxesSubplot at 0x7fad6c4daeb0>"
      ]
     },
     "execution_count": 33,
     "metadata": {},
     "output_type": "execute_result"
    },
    {
     "data": {
      "image/png": "[encoded data removed]",
      "text/plain": [
       "<Figure size 600x400 with 1 Axes>"
      ]
     },
     "metadata": {},
     "output_type": "display_data"
    }
   ],
   "source": [
    "sum_seen_columns_males = males[seen].sum()\n",
    "\n",
    "%matplotlib inline\n",
    "\n",
    "sum_seen_columns_males.plot(kind='bar')"
   ]
  },
  {
   "cell_type": "code",
   "execution_count": 34,
   "metadata": {},
   "outputs": [
    {
     "data": {
      "text/plain": [
       "<matplotlib.axes._subplots.AxesSubplot at 0x7fad6a3bd2e0>"
      ]
     },
     "execution_count": 34,
     "metadata": {},
     "output_type": "execute_result"
    },
    {
     "data": {
      "image/png": "[encoded data removed]",
      "text/plain": [
       "<Figure size 600x400 with 1 Axes>"
      ]
     },
     "metadata": {},
     "output_type": "display_data"
    }
   ],
   "source": [
    "sum_seen_columns_females = females[seen].sum()\n",
    "\n",
    "%matplotlib inline\n",
    "\n",
    "sum_seen_columns_females.plot(kind='bar')"
   ]
  },
  {
   "cell_type": "markdown",
   "metadata": {},
   "source": []
  }
 ],
 "metadata": {
  "kernelspec": {
   "display_name": "Python 3",
   "language": "python",
   "name": "python3"
  },
  "language_info": {
   "codemirror_mode": {
    "name": "ipython",
    "version": 3
   },
   "file_extension": ".py",
   "mimetype": "text/x-python",
   "name": "python",
   "nbconvert_exporter": "python",
   "pygments_lexer": "ipython3",
   "version": "3.8.2"
  }
 },
 "nbformat": 4,
 "nbformat_minor": 1
}
